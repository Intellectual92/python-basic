{
 "cells": [
  {
   "cell_type": "markdown",
   "metadata": {},
   "source": [
    "# 제어문 (본문)\n",
    "\n",
    ": 집 지을때 나무, 돌, 시멘트와 같은 재료는 자료형이 되고, 집의 뼈대를 이루는 철근은 제어문에 해당한다."
   ]
  },
  {
   "cell_type": "markdown",
   "metadata": {},
   "source": [
    "- if문\n",
    "- while문\n",
    "- for문"
   ]
  },
  {
   "cell_type": "markdown",
   "metadata": {},
   "source": [
    "---"
   ]
  },
  {
   "cell_type": "markdown",
   "metadata": {},
   "source": [
    "### 1. if문\n",
    "\n",
    ": 조건을 판단하여 해당 조건에 맞는 상황을 수행하는 데 쓰이는 것"
   ]
  },
  {
   "cell_type": "markdown",
   "metadata": {},
   "source": [
    "#### 1) 구조\n",
    "\n",
    "- 바로 아래 문장부터 if문에 속하는 모든 문장에 들여쓰기 (indentation)를 해주어야 한다.\n",
    "- 들여쓰기를 하는 방법엔 스페이스바와 탭이 있다."
   ]
  },
  {
   "cell_type": "markdown",
   "metadata": {},
   "source": [
    "`if` 조건문1:  \n",
    "&nbsp;&nbsp;&nbsp;&nbsp;수행할 문장1-1  \n",
    "&nbsp;&nbsp;&nbsp;&nbsp;수행할 문장1-2  \n",
    "&nbsp;&nbsp;&nbsp;&nbsp;...  \n",
    "`elif` 조건문2:  \n",
    "&nbsp;&nbsp;&nbsp;&nbsp;수행할 문장2-1  \n",
    "&nbsp;&nbsp;&nbsp;&nbsp;수행할 문장2-2  \n",
    "&nbsp;&nbsp;&nbsp;&nbsp;...  \n",
    "`else:`:  \n",
    "&nbsp;&nbsp;&nbsp;&nbsp;수행할 문장A  \n",
    "&nbsp;&nbsp;&nbsp;&nbsp;수행할 문장B  \n",
    "&nbsp;&nbsp;&nbsp;&nbsp;...  "
   ]
  },
  {
   "cell_type": "markdown",
   "metadata": {},
   "source": [
    "#### 2) 조건문\n",
    "\n",
    ": 참과 거짓을 판단하는 문장\n",
    "\n",
    "\n",
    "- 비교 연산자 (<, >, ==, !=, >=, <=)\n",
    "- and, or, not\n",
    "- x in s, x not in s"
   ]
  },
  {
   "cell_type": "code",
   "execution_count": 1,
   "metadata": {},
   "outputs": [
    {
     "name": "stdout",
     "output_type": "stream",
     "text": [
      "True\n",
      "False\n",
      "False\n",
      "True\n",
      "True\n",
      "False\n"
     ]
    }
   ],
   "source": [
    "# 비교 연산자\n",
    "a1 = 3\n",
    "a2 = 4\n",
    "\n",
    "print(a1 < a2)\n",
    "print(a1 > a2)\n",
    "print(a1 == a2)\n",
    "print(a1 != a2)\n",
    "print(a1 <= a2)\n",
    "print(a1 >= a2)"
   ]
  },
  {
   "cell_type": "code",
   "execution_count": 2,
   "metadata": {},
   "outputs": [
    {
     "name": "stdout",
     "output_type": "stream",
     "text": [
      "걸어가라\n",
      "택시 타고 가라\n",
      "택시 타고 가라\n"
     ]
    }
   ],
   "source": [
    "# and, or, not\n",
    "money = 3000\n",
    "card = False\n",
    "\n",
    "# 돈이 3,000원 이상 있고 카드가 있다면 택시를 타고 그렇지 않으면 걸어가라\n",
    "if money >= 3000 and card:\n",
    "    print(\"택시 타고 가라\")\n",
    "else:\n",
    "    print(\"걸어가라\")\n",
    "\n",
    "    \n",
    "# 돈이 3,000원 이상 있고 카드가 있거나 택시를 타고 그렇지 않으면 걸어가라\n",
    "if money >= 3000 or card:\n",
    "    print(\"택시 타고 가라\")\n",
    "else:\n",
    "    print(\"걸어가라\")\n",
    "    \n",
    "    \n",
    "# 돈이 3,000원 이상 없으면 택시를 타고 그렇지 않으면 걸어가라\n",
    "if not money <= 3000:\n",
    "    print(\"걸어가라\")\n",
    "else:\n",
    "    print(\"택시 타고 가라\")"
   ]
  },
  {
   "cell_type": "code",
   "execution_count": 3,
   "metadata": {},
   "outputs": [
    {
     "name": "stdout",
     "output_type": "stream",
     "text": [
      "택시 타고 가라\n",
      "걸어가라\n"
     ]
    }
   ],
   "source": [
    "# x in s, x not in s\n",
    "pocket = [\"paper\", \"phone\", \"money\"]\n",
    "\n",
    "# 주머니에 돈이 있으면 택시를 타고, 없으면 걸어가라\n",
    "if \"money\" in pocket:\n",
    "    print(\"택시 타고 가라\")\n",
    "else:\n",
    "    print(\"걸어가라\")\n",
    "\n",
    "    \n",
    "# 주머니에 폰이 없으면 택시를 타고, 없으면 걸어가라\n",
    "if \"phone\" not in pocket:\n",
    "    print(\"택시 타고 가라\")\n",
    "else:\n",
    "    print(\"걸어가라\")"
   ]
  },
  {
   "cell_type": "code",
   "execution_count": 4,
   "metadata": {},
   "outputs": [],
   "source": [
    "# 조건에서 아무 일도 하고 싶지 않을때 (pass)\n",
    "\n",
    "if \"money\" in pocket:\n",
    "    pass\n",
    "else:\n",
    "    print(\"걸어가라\")"
   ]
  },
  {
   "cell_type": "markdown",
   "metadata": {},
   "source": [
    "#### 3) 문제\n",
    "\n",
    "'주머니에 카드가 없다면 걸어가고, 있다면 버스를 타고 가라'는 문장을 조건문으로 만들어보자"
   ]
  },
  {
   "cell_type": "code",
   "execution_count": 5,
   "metadata": {},
   "outputs": [
    {
     "name": "stdout",
     "output_type": "stream",
     "text": [
      "버스 타고 가라\n"
     ]
    }
   ],
   "source": [
    "pocket = ['card', 'money']\n",
    "\n",
    "if \"card\" not in pocket:\n",
    "    print(\"걸어가라\")\n",
    "else:\n",
    "    print(\"버스 타고 가라\")"
   ]
  },
  {
   "cell_type": "markdown",
   "metadata": {},
   "source": [
    "---"
   ]
  },
  {
   "cell_type": "markdown",
   "metadata": {},
   "source": [
    "### 2. while문\n",
    "\n",
    ": 조건문이 참인 동안에 while문 아래의 문장이 반복해서 수행된다."
   ]
  },
  {
   "cell_type": "markdown",
   "metadata": {},
   "source": [
    "#### 1) 구조\n",
    "\n",
    "`while` 조건문:  \n",
    "&nbsp;&nbsp;&nbsp;&nbsp;수행할 문장1  \n",
    "&nbsp;&nbsp;&nbsp;&nbsp;수행할 문장2  \n",
    "&nbsp;&nbsp;&nbsp;&nbsp;수행할 문장3  \n",
    "&nbsp;&nbsp;&nbsp;&nbsp;...  "
   ]
  },
  {
   "cell_type": "code",
   "execution_count": 6,
   "metadata": {},
   "outputs": [
    {
     "name": "stdout",
     "output_type": "stream",
     "text": [
      "나무를 1번 찍었습니다.\n",
      "나무를 2번 찍었습니다.\n",
      "나무를 3번 찍었습니다.\n",
      "나무를 4번 찍었습니다.\n",
      "나무를 5번 찍었습니다.\n",
      "나무를 6번 찍었습니다.\n",
      "나무를 7번 찍었습니다.\n",
      "나무를 8번 찍었습니다.\n",
      "나무를 9번 찍었습니다.\n",
      "나무를 10번 찍었습니다.\n",
      "\n",
      "나무 넘어갑니다!\n"
     ]
    }
   ],
   "source": [
    "treeHit = 0\n",
    "\n",
    "while treeHit < 10:\n",
    "    treeHit += 1\n",
    "    print(f'나무를 {treeHit}번 찍었습니다.')\n",
    "    \n",
    "    if treeHit == 10:\n",
    "        print(\"\\n나무 넘어갑니다!\")"
   ]
  },
  {
   "cell_type": "markdown",
   "metadata": {},
   "source": [
    "#### 2) while문 강제로 빠져나가기 (break)"
   ]
  },
  {
   "cell_type": "code",
   "execution_count": 7,
   "metadata": {
    "scrolled": true
   },
   "outputs": [
    {
     "name": "stdout",
     "output_type": "stream",
     "text": [
      "나무를 1번 찍었습니다.\n",
      "나무를 2번 찍었습니다.\n",
      "나무를 3번 찍었습니다.\n",
      "나무를 4번 찍었습니다.\n",
      "나무를 5번 찍었습니다.\n",
      "일시 중지!\n"
     ]
    }
   ],
   "source": [
    "# break\n",
    "treeHit = 0\n",
    "\n",
    "while treeHit < 10:\n",
    "    treeHit += 1\n",
    "    print(f'나무를 {treeHit}번 찍었습니다.')\n",
    "    \n",
    "    if treeHit == 5:\n",
    "        print(\"일시 중지!\")\n",
    "        break"
   ]
  },
  {
   "cell_type": "markdown",
   "metadata": {},
   "source": [
    "#### 3) while문의 맨 처음으로 돌아가기 (continue)"
   ]
  },
  {
   "cell_type": "code",
   "execution_count": 8,
   "metadata": {},
   "outputs": [
    {
     "name": "stdout",
     "output_type": "stream",
     "text": [
      "나무를 1번 찍었습니다.\n",
      "나무를 2번 찍었습니다.\n",
      "나무를 3번 찍었습니다.\n",
      "나무를 4번 찍었습니다.\n",
      "나무를 6번 찍었습니다.\n",
      "나무를 7번 찍었습니다.\n",
      "나무를 8번 찍었습니다.\n",
      "나무를 9번 찍었습니다.\n",
      "나무를 10번 찍었습니다.\n"
     ]
    }
   ],
   "source": [
    "# continue\n",
    "treeHit = 0\n",
    "\n",
    "while treeHit < 10:\n",
    "    treeHit += 1\n",
    "    \n",
    "    if treeHit == 5:\n",
    "        continue\n",
    "        \n",
    "    print(f'나무를 {treeHit}번 찍었습니다.')"
   ]
  },
  {
   "cell_type": "markdown",
   "metadata": {},
   "source": [
    "#### 4) 문제\n",
    "\n",
    "1부터 10까지의 숫자 중에서 3의 배수를 뺀 나머지 값을 출력해보자."
   ]
  },
  {
   "cell_type": "code",
   "execution_count": 9,
   "metadata": {
    "scrolled": true
   },
   "outputs": [
    {
     "name": "stdout",
     "output_type": "stream",
     "text": [
      "1\n",
      "2\n",
      "4\n",
      "5\n",
      "7\n",
      "8\n",
      "10\n"
     ]
    }
   ],
   "source": [
    "num = 0\n",
    "\n",
    "while num < 10:\n",
    "    num += 1\n",
    "    if num % 3 == 0:\n",
    "        continue\n",
    "        \n",
    "    print(num)"
   ]
  },
  {
   "cell_type": "markdown",
   "metadata": {},
   "source": [
    "---"
   ]
  },
  {
   "cell_type": "markdown",
   "metadata": {},
   "source": [
    "### 3. for문\n",
    "\n",
    ": while문과 비슷하지만 문장 구조가 한눈에 쏙 들어온다는 장점이 있다."
   ]
  },
  {
   "cell_type": "markdown",
   "metadata": {},
   "source": [
    "#### 1) 구조\n",
    "\n",
    "`for` 변수 `in` 리스트(또는 튜플, 문자열):  \n",
    "&nbsp;&nbsp;&nbsp;&nbsp;수행할 문장1  \n",
    "&nbsp;&nbsp;&nbsp;&nbsp;수행할 문장2  \n",
    "&nbsp;&nbsp;&nbsp;&nbsp;수행할 문장3  \n",
    "&nbsp;&nbsp;&nbsp;&nbsp;...  "
   ]
  },
  {
   "cell_type": "code",
   "execution_count": 10,
   "metadata": {},
   "outputs": [
    {
     "name": "stdout",
     "output_type": "stream",
     "text": [
      "one\n",
      "two\n",
      "three\n"
     ]
    }
   ],
   "source": [
    "ls = [\"one\", \"two\", \"three\"]\n",
    "\n",
    "for i in ls:\n",
    "    print(i)"
   ]
  },
  {
   "cell_type": "markdown",
   "metadata": {},
   "source": [
    "#### 2) range 함수\n",
    "\n",
    "- 숫자 리스트를 자동으로 만들어 주는 range 함수\n",
    "- range(시작숫자, 끝숫자, 구간)"
   ]
  },
  {
   "cell_type": "code",
   "execution_count": 11,
   "metadata": {},
   "outputs": [
    {
     "name": "stdout",
     "output_type": "stream",
     "text": [
      "range(0, 10)\n",
      "range(1, 10)\n",
      "range(1, 10, 2)\n"
     ]
    }
   ],
   "source": [
    "c1 = range(10)\n",
    "c2 = range(1, 10)\n",
    "c3 = range(1, 10, 2)\n",
    "\n",
    "print(c1)\n",
    "print(c2)\n",
    "print(c3)"
   ]
  },
  {
   "cell_type": "markdown",
   "metadata": {},
   "source": [
    "#### 3) 리스트 내포 사용하기\n",
    "\n",
    "- 리스트 안에 for문을 포함하는 것을 리스트 내포(List comprehension)이라 한다.\n",
    "- [ 표현식 for 항목 in 반복 가능 객체 if 조건 ]"
   ]
  },
  {
   "cell_type": "code",
   "execution_count": 12,
   "metadata": {},
   "outputs": [
    {
     "name": "stdout",
     "output_type": "stream",
     "text": [
      "[3, 6, 9, 12]\n",
      "[6, 12]\n"
     ]
    }
   ],
   "source": [
    "c4 = [1, 2, 3, 4]\n",
    "c5 = [num * 3 for num in c4]\n",
    "c6 = [num * 3 for num in c4 if num % 2 == 0]\n",
    "\n",
    "print(c5)\n",
    "print(c6)"
   ]
  },
  {
   "cell_type": "markdown",
   "metadata": {},
   "source": [
    "#### 4) 문제\n",
    "\n",
    "for문과 range 함수를 사용하여 1부터 100까지 더해 보자."
   ]
  },
  {
   "cell_type": "code",
   "execution_count": 13,
   "metadata": {
    "scrolled": true
   },
   "outputs": [
    {
     "name": "stdout",
     "output_type": "stream",
     "text": [
      "5050\n"
     ]
    }
   ],
   "source": [
    "num = 0\n",
    "for i in range(1, 100+1):\n",
    "    num += i\n",
    "    \n",
    "print(num)"
   ]
  }
 ],
 "metadata": {
  "kernelspec": {
   "display_name": "Python 3",
   "language": "python",
   "name": "python3"
  },
  "language_info": {
   "codemirror_mode": {
    "name": "ipython",
    "version": 3
   },
   "file_extension": ".py",
   "mimetype": "text/x-python",
   "name": "python",
   "nbconvert_exporter": "python",
   "pygments_lexer": "ipython3",
   "version": "3.7.6"
  }
 },
 "nbformat": 4,
 "nbformat_minor": 2
}
