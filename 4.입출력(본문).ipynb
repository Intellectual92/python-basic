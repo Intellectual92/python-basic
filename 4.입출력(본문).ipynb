{
 "cells": [
  {
   "cell_type": "markdown",
   "metadata": {},
   "source": [
    "# 입출력 (본문)"
   ]
  },
  {
   "cell_type": "markdown",
   "metadata": {},
   "source": [
    "- 함수\n",
    "- 사용자 입력과 출력\n",
    "- 파일 읽고 쓰기"
   ]
  },
  {
   "cell_type": "markdown",
   "metadata": {},
   "source": [
    "---"
   ]
  },
  {
   "cell_type": "markdown",
   "metadata": {},
   "source": [
    "### 1. 함수\n",
    "\n",
    "- 입력값을 가지고 어떤 일을 수행한 다음에 그 결과물을 내어놓는 것, 이것이 바로 함수가 하는 일이다.\n",
    "- 반복되는 부분이 있을 경우 '반복적으로 사용되는 가치 있는 부분'을 한 치로 묶어서 '어떤 입력값을 주었을 때 어떤 결과값을 돌려준다'라는 식의 함수로 작성하는 것이 현명하다."
   ]
  },
  {
   "cell_type": "markdown",
   "metadata": {},
   "source": [
    "#### 1) 구조\n",
    "\n",
    "- def는 함수를 만들 때 사용하는 예약어다.\n",
    "- 결과값은 오직 return 명령어로만 돌려받을 수 있다.\n",
    "- 함수는 return문을 만나는 순간 결과값을 돌려준 다음 함수를 빠져나가게 된다."
   ]
  },
  {
   "cell_type": "markdown",
   "metadata": {},
   "source": [
    "`def` 함수 이름(매개변수):  \n",
    "&nbsp;&nbsp;&nbsp;&nbsp;수행할 문장1  \n",
    "&nbsp;&nbsp;&nbsp;&nbsp;수행할 문장1  \n",
    "&nbsp;&nbsp;&nbsp;&nbsp;...  \n",
    "&nbsp;&nbsp;&nbsp;&nbsp;`return` 결괏값"
   ]
  },
  {
   "cell_type": "markdown",
   "metadata": {},
   "source": [
    "#### 2) 매개변수와 인수\n",
    "\n",
    "- 매개변수(parameter) : 함수에 입력으로 전달된 값을 받는 변수\n",
    "- 인수(arguments) : 함수를 호출할 때 전달하는 입력값"
   ]
  },
  {
   "cell_type": "code",
   "execution_count": 1,
   "metadata": {},
   "outputs": [
    {
     "name": "stdout",
     "output_type": "stream",
     "text": [
      "7\n",
      "7\n"
     ]
    }
   ],
   "source": [
    "# 매개변수 (a, b)\n",
    "def add(a, b):\n",
    "    return a+b\n",
    "\n",
    "# 인수 (3, 4)\n",
    "print(add(3, 4))\n",
    "print(add(b=4, a=3))"
   ]
  },
  {
   "cell_type": "markdown",
   "metadata": {},
   "source": [
    "#### 3) 입력값이 몇 개가 될지 모르는 경우 ( * , ** )\n",
    "`def` 함수 이름( \\*매개변수 or \\**키워드파라미터 ):  \n",
    "&nbsp;&nbsp;&nbsp;&nbsp;수행할 문장1  \n",
    "&nbsp;&nbsp;&nbsp;&nbsp;수행할 문장1  \n",
    "&nbsp;&nbsp;&nbsp;&nbsp;...  \n",
    "&nbsp;&nbsp;&nbsp;&nbsp;`return` 결괏값"
   ]
  },
  {
   "cell_type": "code",
   "execution_count": 2,
   "metadata": {},
   "outputs": [
    {
     "name": "stdout",
     "output_type": "stream",
     "text": [
      "10\n"
     ]
    }
   ],
   "source": [
    "# 매개변수\n",
    "def add_many(*args):\n",
    "    result = 0\n",
    "    for i in args:\n",
    "        result += i\n",
    "    return result\n",
    "\n",
    "print(add_many(1, 2, 3, 4))"
   ]
  },
  {
   "cell_type": "code",
   "execution_count": 3,
   "metadata": {},
   "outputs": [
    {
     "name": "stdout",
     "output_type": "stream",
     "text": [
      "{'a': 1}\n"
     ]
    }
   ],
   "source": [
    "# 키워드 파라미터\n",
    "def print_kwargs(**kwargs):\n",
    "    print(kwargs)\n",
    "    \n",
    "print_kwargs(a=1)"
   ]
  },
  {
   "cell_type": "markdown",
   "metadata": {},
   "source": [
    "#### 4) 매개변수에 초기값 미리 설정하기\n",
    "\n",
    ": 함수의 매개변수에 들어갈 값이 항상 변하는 것이 아닐 경우에는 이렇게 함수의 초깃값을 미리 설정해 두면 유용하다."
   ]
  },
  {
   "cell_type": "code",
   "execution_count": 4,
   "metadata": {},
   "outputs": [
    {
     "name": "stdout",
     "output_type": "stream",
     "text": [
      "나의 이름은 JI입니다.\n",
      "나이는 29살입니다.\n",
      "남자입니다.\n",
      "\n",
      "나의 이름은 KIM입니다.\n",
      "나이는 26살입니다.\n",
      "여자입니다.\n",
      "\n"
     ]
    }
   ],
   "source": [
    "# 초기값 셋팅 (man=True)\n",
    "def introduce(name, old, man=True):\n",
    "    print(f'나의 이름은 {name}입니다.')\n",
    "    print(f'나이는 {old}살입니다.')\n",
    "    if man:\n",
    "        print(\"남자입니다.\\n\")\n",
    "    else:\n",
    "        print(\"여자입니다.\\n\")\n",
    "        \n",
    "introduce('JI', 29)\n",
    "introduce(\"KIM\", 26, False)"
   ]
  },
  {
   "cell_type": "markdown",
   "metadata": {},
   "source": [
    "#### 5) lambda\n",
    "\n",
    "- lambda는 함수를 생성할 때 사용하는 예약어로 def와 동일한 역할을 한다.\n",
    "- 보통 함수를 한줄로 간결하게 만들 때 사용한다.\n",
    "- lambda로 만든 함수는 return 명령어가 없어도 결과값을 돌려준다.\n",
    "\n",
    "`lambda 매개변수1, 매개변수2, ... : 매개변수를 사용한 표현식`"
   ]
  },
  {
   "cell_type": "code",
   "execution_count": 5,
   "metadata": {},
   "outputs": [
    {
     "name": "stdout",
     "output_type": "stream",
     "text": [
      "7\n"
     ]
    }
   ],
   "source": [
    "#lambda\n",
    "add = lambda a, b: a + b\n",
    "\n",
    "print(add(3, 4))"
   ]
  },
  {
   "cell_type": "markdown",
   "metadata": {},
   "source": [
    "---"
   ]
  },
  {
   "cell_type": "markdown",
   "metadata": {},
   "source": [
    "### 2. 사용자 입력과 출력\n",
    "\n",
    "- input\n",
    "- print"
   ]
  },
  {
   "cell_type": "code",
   "execution_count": null,
   "metadata": {
    "scrolled": true
   },
   "outputs": [],
   "source": [
    "# input\n",
    "a = input(\"내용을 입력해주세요 : \")"
   ]
  },
  {
   "cell_type": "code",
   "execution_count": null,
   "metadata": {
    "scrolled": true
   },
   "outputs": [],
   "source": [
    "# print\n",
    "print(a)"
   ]
  },
  {
   "cell_type": "code",
   "execution_count": null,
   "metadata": {},
   "outputs": [],
   "source": [
    "# 문자열 띄어쓰기\n",
    "print(\"life\" \"is\" \"too short.\")\n",
    "print(\"life\"+\"is\"+\"too short.\")\n",
    "print(\"life\", \"is\", \"too short.\")"
   ]
  },
  {
   "cell_type": "code",
   "execution_count": null,
   "metadata": {},
   "outputs": [],
   "source": [
    "# 한줄에 출력\n",
    "for i in range(10):\n",
    "    print(i, end=\" \")"
   ]
  },
  {
   "cell_type": "markdown",
   "metadata": {},
   "source": [
    "---"
   ]
  },
  {
   "cell_type": "markdown",
   "metadata": {},
   "source": [
    "### 3. 파일 읽고 쓰기"
   ]
  },
  {
   "cell_type": "markdown",
   "metadata": {},
   "source": [
    "#### 1) 파일 생성하기\n",
    "\n",
    "`파일 객체 = open(파일 이름, 파일 열기 모드)`\n",
    "\n",
    "|파일 열기 모드|설명|\n",
    "|--|--|\n",
    "|r|읽기 모드 - 파일을 읽기만 할 때 사용|\n",
    "|w|쓰기 모드 - 파일에 내용을 쓸 때 사용|\n",
    "|a|추가 모드 - 파일의 마지막에 사로운 내용을 추가할 때 사용|"
   ]
  },
  {
   "cell_type": "code",
   "execution_count": null,
   "metadata": {},
   "outputs": [],
   "source": [
    "# 파일 생성\n",
    "f = open(\"test.txt\", \"w\")\n",
    "\n",
    "# 파일 작성\n",
    "for i in range(1, 11):\n",
    "    data = f'{i}번째 줄입니다.\\n'\n",
    "    f.write(data)\n",
    "    \n",
    "f.close()"
   ]
  },
  {
   "cell_type": "code",
   "execution_count": null,
   "metadata": {},
   "outputs": [],
   "source": [
    "# 파일 읽기1 - 파일의 첫째줄(readline)\n",
    "new = open(\"test.txt\", \"r\")\n",
    "line = new.readline()\n",
    "print(line)\n",
    "new.close()\n",
    "\n",
    "# 파일 읽기2 = 파일의 각 줄을 리스트화 해서 반환 (readlines)\n",
    "new = open(\"test.txt\", \"r\")\n",
    "lines = new.readlines()\n",
    "print(lines)\n",
    "\n",
    "# 파일 읽기3 = 파일 내용의 전체를 문자열로 반환 (read)\n",
    "new = open(\"test.txt\", \"r\")\n",
    "read = new.read()\n",
    "print(read)"
   ]
  },
  {
   "cell_type": "code",
   "execution_count": null,
   "metadata": {},
   "outputs": [],
   "source": [
    "# 파일의 새로운 내용 추가\n",
    "f = open(\"test.txt\", \"a\")\n",
    "\n",
    "for i in range(11, 20):\n",
    "    data = f'{i}번째 줄입니다.\\n'\n",
    "    f.write(data)\n",
    "\n",
    "f.close()\n",
    "\n",
    "# 추가된 내용 확인\n",
    "new = open(\"test.txt\", \"r\")\n",
    "read = new.read()\n",
    "print(read)"
   ]
  },
  {
   "cell_type": "code",
   "execution_count": null,
   "metadata": {},
   "outputs": [],
   "source": [
    "# with (close를 안해줘도 됨)\n",
    "with open(\"test.txt\", \"w\") as f:\n",
    "    f.write(\"Life is short, You need Python.\")"
   ]
  }
 ],
 "metadata": {
  "kernelspec": {
   "display_name": "Python 3",
   "language": "python",
   "name": "python3"
  },
  "language_info": {
   "codemirror_mode": {
    "name": "ipython",
    "version": 3
   },
   "file_extension": ".py",
   "mimetype": "text/x-python",
   "name": "python",
   "nbconvert_exporter": "python",
   "pygments_lexer": "ipython3",
   "version": "3.7.6"
  }
 },
 "nbformat": 4,
 "nbformat_minor": 2
}
