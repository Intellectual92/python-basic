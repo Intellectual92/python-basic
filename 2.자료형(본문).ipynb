{
 "cells": [
  {
   "cell_type": "markdown",
   "metadata": {},
   "source": [
    "# 자료형 (본문)\n",
    "\n",
    ": 프로그래밍을 할 때 쓰이는 숫자, 문자열 등 자료 형태로 사용하는 모든 것"
   ]
  },
  {
   "cell_type": "markdown",
   "metadata": {},
   "source": [
    "- 숫자형 (Number)\n",
    "- 문자형 (String)\n",
    "- 리스트 (List)\n",
    "- 튜플 (Tuple)\n",
    "- 딕셔너리 (Dictionary)\n",
    "- 집합 (Set)\n",
    "- 불리안 (Boolean)"
   ]
  },
  {
   "cell_type": "markdown",
   "metadata": {},
   "source": [
    "---"
   ]
  },
  {
   "cell_type": "markdown",
   "metadata": {},
   "source": [
    "### 1. 숫자형 (Number)\n",
    "\n",
    ": 숫자 형태로 이루어진 자료형"
   ]
  },
  {
   "cell_type": "markdown",
   "metadata": {},
   "source": [
    "#### 1) 종류"
   ]
  },
  {
   "cell_type": "code",
   "execution_count": 1,
   "metadata": {},
   "outputs": [],
   "source": [
    "# 정수형 (Integer) : 정수를 뜻하는 자료형\n",
    "a1 = 123\n",
    "a2 = -123\n",
    "a3 = 0 \n",
    "\n",
    "# 실수형 (Floating) : 소수점이 포함된 숫자\n",
    "a4 = 1.23\n",
    "a5 = -1.23\n",
    "a6 = 4.24E4 # 4.24 * 10^4 = 42,400\n",
    "a7 = 4.24e-4 # 4.24 * 10^-4 = 0.000424\n",
    "\n",
    "# 8진수 (Octal) : 0O or 0o + 숫자\n",
    "a8 = 0O12\n",
    "\n",
    "# 16진수 (Hexadecimal) : 0x + 숫자\n",
    "a9 = 0x8ff\n",
    "\n",
    "print(\"4.24E4 :\", a6)\n",
    "print(\"4.24e-4 :\", a7)\n",
    "print(\"0O12:\", a8)\n",
    "print(\"0x8ff :\", a9)"
   ]
  },
  {
   "cell_type": "markdown",
   "metadata": {},
   "source": [
    "#### 2) 활용"
   ]
  },
  {
   "cell_type": "code",
   "execution_count": 2,
   "metadata": {},
   "outputs": [],
   "source": [
    "a = 4\n",
    "b = 3\n",
    "\n",
    "# 사칙연산 (+, -, *, /)\n",
    "print('더하기:', a+b)\n",
    "print('빼기:', a-b)\n",
    "print('곱하기:', a*b)\n",
    "print('나누기:', a/b)\n",
    "\n",
    "# 제곱 (**)\n",
    "print(\"제곱:\", a**b)\n",
    "\n",
    "# 나머지 (%)\n",
    "print(\"나머지:\", a%b)\n",
    "\n",
    "# 몫 (//)\n",
    "print(\"몫:\", a//b)"
   ]
  },
  {
   "cell_type": "markdown",
   "metadata": {},
   "source": [
    "#### 3) 문제\n",
    "\n",
    "방금 배운 연산자를 사용해서 숫자 14를 3으로 나누었을 때 몫과 나머지를 확인해보자."
   ]
  },
  {
   "cell_type": "code",
   "execution_count": 3,
   "metadata": {},
   "outputs": [],
   "source": [
    "# 몫\n",
    "a = 14\n",
    "b = 3\n",
    "\n",
    "print(\"몫:\", a//b)\n",
    "print(\"나머지:\", a%b)"
   ]
  },
  {
   "cell_type": "markdown",
   "metadata": {},
   "source": [
    "---"
   ]
  },
  {
   "cell_type": "markdown",
   "metadata": {},
   "source": [
    "### 2. 문자형 (String)\n",
    "\n",
    ": 문자, 단어 등으로 구성된 문자들의 집합"
   ]
  },
  {
   "cell_type": "markdown",
   "metadata": {},
   "source": [
    "#### 1) 사용법"
   ]
  },
  {
   "cell_type": "code",
   "execution_count": 4,
   "metadata": {},
   "outputs": [],
   "source": [
    "# 큰따옴표(\"\")\n",
    "b1 = \"Hello World!\"\n",
    "\n",
    "# 작은따옴표('')\n",
    "b2 = 'Hello World!'\n",
    "\n",
    "# 큰따옴표 3개 연속 (줄바꿈 가능)\n",
    "b3 = \"\"\"  \n",
    "Life is short,\n",
    "You need Python.\n",
    "\"\"\"\n",
    "\n",
    "# 작은따옴표 3개 연속 (줄바꿈 가능)\n",
    "b4='''\n",
    "Life is short,\n",
    "You need Python.\n",
    "'''\n",
    "\n",
    "print(b1)\n",
    "print(b2)\n",
    "print(b3)\n",
    "print(b4)"
   ]
  },
  {
   "cell_type": "markdown",
   "metadata": {},
   "source": [
    "#### 2) 연산"
   ]
  },
  {
   "cell_type": "code",
   "execution_count": 5,
   "metadata": {},
   "outputs": [
    {
     "name": "stdout",
     "output_type": "stream",
     "text": [
      "Python is fun!\n",
      "PythonPython\n",
      "6\n"
     ]
    }
   ],
   "source": [
    "b5 = \"Python\"\n",
    "b6 = \" is fun!\"\n",
    "\n",
    "# 더하기(+)\n",
    "print(b5 + b6)\n",
    "\n",
    "# 곱하기(*)\n",
    "print(b5*2)\n",
    "\n",
    "# 길이(len)\n",
    "print(len(b5))"
   ]
  },
  {
   "cell_type": "markdown",
   "metadata": {},
   "source": [
    "#### 3) 인덱싱 & 슬라이싱\n",
    "\n",
    "\n",
    "- 인덱싱 (Indexing) : 무엇인가를 '가리킨다'라는 의미\n",
    "- 슬라이싱 (Slicing) : 무엇인가를 '잘라낸다'는 의미"
   ]
  },
  {
   "cell_type": "code",
   "execution_count": 6,
   "metadata": {},
   "outputs": [
    {
     "name": "stdout",
     "output_type": "stream",
     "text": [
      "e\n",
      "n\n",
      "You\n"
     ]
    }
   ],
   "source": [
    "# 참고로 파이썬은 0부터 숫자를 셈\n",
    "b7 = \"Life is short, You need Python\"\n",
    "\n",
    "# 인덱싱 : 문자열[번호]\n",
    "print(b7[3]) # 문자열의 4번째 문자 출력\n",
    "print(b7[-1]) # 문자열의 제일 마지막 문자 출력 \n",
    "\n",
    "# 슬라이싱 : 문자열[시작번호(포함) : 끝번호(미포함)]\n",
    "print(b7[15:18]) # 문자열의 15번째에서 17번째 문자 연속 출력"
   ]
  },
  {
   "cell_type": "markdown",
   "metadata": {},
   "source": [
    "#### 4) 포멧팅 (Formatting)\n",
    "\n",
    ": 문자열 안의 특정한 값을 바꿔야 할 경우가 있을 유용한 기법"
   ]
  },
  {
   "cell_type": "code",
   "execution_count": 7,
   "metadata": {},
   "outputs": [
    {
     "name": "stdout",
     "output_type": "stream",
     "text": [
      "My name is JI. I'm 29 years old.\n",
      "My name is JI. I'm 29 years old.\n",
      "My name is JI. I'm 29 years old.\n"
     ]
    }
   ],
   "source": [
    "name = \"JI\"\n",
    "age = 29\n",
    "\n",
    "# 포맷 코드 활용\n",
    "b8 = \"My name is %s. I'm %d years old.\" %(name, age)\n",
    "print(b8)\n",
    "\n",
    "# .format() 활용\n",
    "b9 = \"My name is {}. I'm {} years old.\".format(name, age)\n",
    "print(b9)\n",
    "\n",
    "# f'' 활용 (ver3.6 이상) : 해당 변수를 직접 사용 (JS스러움)\n",
    "b10 = f\"My name is {name}. I'm {age} years old.\"\n",
    "print(b10)"
   ]
  },
  {
   "cell_type": "markdown",
   "metadata": {},
   "source": [
    "#### 5) 관련 함수\n",
    "\n",
    "- `count` : 문자 개수 세기\n",
    "- `find` : 위치 알려주기\n",
    "- `index` : 위치 알려주기\n",
    "- `join` : 문자열 삽입\n",
    "- `upper` : 소문자를 대문자로 변경\n",
    "- `lower` : 대분자를 소문자로 변경\n",
    "- `lstrip` : 왼쪽 공백 제거\n",
    "- `rstrip` : 오른쪽 공백 제거\n",
    "- `strip` : 양쪽 공백 제거\n",
    "- `replace` : 문자열 바꾸기\n",
    "- `split` : 문자열 나누기"
   ]
  },
  {
   "cell_type": "code",
   "execution_count": 8,
   "metadata": {
    "scrolled": true
   },
   "outputs": [
    {
     "name": "stdout",
     "output_type": "stream",
     "text": [
      "count 3\n",
      "find : 3\n",
      "index : 3\n",
      "join : L,i,f,e, ,i,s, ,s,h,o,r,t,,, ,Y,o,u, ,n,e,e,d, ,P,y,t,h,o,n\n",
      "upper : LIFE IS SHORT, YOU NEED PYTHON\n",
      "lower : life is short, you need python\n",
      "lstrip : Hello \n",
      "rstrip :  Hello\n",
      "strip : Hello\n",
      "replace : Life is long, You need Python\n",
      "split : ['Life', 'is', 'short,', 'You', 'need', 'Python']\n"
     ]
    }
   ],
   "source": [
    "b11 = \"Life is short, You need Python\"\n",
    "b12 = \" Hello \"\n",
    "\n",
    "# count : 특정 문자가 들어간 개수\n",
    "print(\"count\", b11.count(\"e\"))\n",
    "\n",
    "# find (값이 없으면 -1 반환)\n",
    "print(\"find :\", b11.find(\"e\"))\n",
    "\n",
    "# index (값이 없으면 에러)\n",
    "print(\"index :\", b11.index(\"e\"))\n",
    "\n",
    "# join (문자열 삽입)\n",
    "print(\"join :\", \",\".join(b11))\n",
    "\n",
    "# upper\n",
    "print(\"upper :\", b11.upper())\n",
    "\n",
    "# lower\n",
    "print(\"lower :\", b11.lower())\n",
    "\n",
    "# lstrip\n",
    "print(\"lstrip :\", b12.lstrip())\n",
    "\n",
    "# rstrip\n",
    "print(\"rstrip :\", b12.rstrip())\n",
    "\n",
    "# strip\n",
    "print(\"strip :\", b12.strip())\n",
    "\n",
    "# replace : replace(바꾸려고 하는 문자, 바꿀 문자)\n",
    "print(\"replace :\", b11.replace(\"short\", \"long\"))\n",
    "\n",
    "# split : 리스트로 반환\n",
    "print(\"split :\", b11.split())"
   ]
  },
  {
   "cell_type": "markdown",
   "metadata": {},
   "source": [
    "#### 6) 문제\n",
    "\n",
    "Q1. 'You need Python' 문장을 문자열로 만들고 길이를 구해보자.  \n",
    "Q2. format 함수 또는 f 문자열을 포멧팅을 사용해 '!!!python!!!'문자열을 출력해보자."
   ]
  },
  {
   "cell_type": "code",
   "execution_count": 9,
   "metadata": {},
   "outputs": [
    {
     "name": "stdout",
     "output_type": "stream",
     "text": [
      "Q1 : 15\n",
      "Q2 : !!!Python!!!\n"
     ]
    }
   ],
   "source": [
    "# Q1\n",
    "b13 = 'You need Python'\n",
    "print(\"Q1 :\", len(b13))\n",
    "\n",
    "# Q2\n",
    "b14 = f'{\"Python\":!^12}'\n",
    "print(\"Q2 :\", b14)"
   ]
  },
  {
   "cell_type": "markdown",
   "metadata": {},
   "source": [
    "---"
   ]
  },
  {
   "cell_type": "markdown",
   "metadata": {},
   "source": [
    "### 3. 리스트 (List)\n",
    "\n",
    "- 숫자, 문자들의 모음"
   ]
  },
  {
   "cell_type": "markdown",
   "metadata": {},
   "source": [
    "#### 1) 사용법\n",
    "\n",
    "- 대괄호([ ])로 표현, 요솟값은 쉼표(,)로 구분\n",
    "- 리스트 안에는 어떠한 자료형도 포함시킬 수 있음"
   ]
  },
  {
   "cell_type": "code",
   "execution_count": 10,
   "metadata": {},
   "outputs": [
    {
     "name": "stdout",
     "output_type": "stream",
     "text": [
      "[]\n",
      "[1, 2, 3]\n",
      "[1, 'Life', True, [1, 2, 3]]\n"
     ]
    }
   ],
   "source": [
    "# 리스트명 = [요소1, 요소2, 요소3, ...]\n",
    "c1 = []\n",
    "c2 = [1, 2, 3]\n",
    "c3 = [1, 'Life', True, [1, 2, 3]]\n",
    "\n",
    "print(c1)\n",
    "print(c2)\n",
    "print(c3)"
   ]
  },
  {
   "cell_type": "markdown",
   "metadata": {},
   "source": [
    "#### 2) 인덱싱 & 슬라이싱"
   ]
  },
  {
   "cell_type": "code",
   "execution_count": 11,
   "metadata": {},
   "outputs": [
    {
     "name": "stdout",
     "output_type": "stream",
     "text": [
      "True\n",
      "[1, 2, 3]\n",
      "3\n",
      "[1, 'Life']\n"
     ]
    }
   ],
   "source": [
    "# 문자열과 동일한 방식으로 사용 가능\n",
    "\n",
    "# 인덱싱\n",
    "print(c3[2])\n",
    "print(c3[-1])\n",
    "print(c3[-1][2])\n",
    "\n",
    "# 슬라이싱\n",
    "print(c3[0:2])"
   ]
  },
  {
   "cell_type": "markdown",
   "metadata": {},
   "source": [
    "#### 3) 연산"
   ]
  },
  {
   "cell_type": "code",
   "execution_count": 12,
   "metadata": {},
   "outputs": [
    {
     "name": "stdout",
     "output_type": "stream",
     "text": [
      "[1, 2, 3, 4, 5, 6, 7, 8]\n",
      "[1, 2, 3, 4, 1, 2, 3, 4]\n",
      "4\n"
     ]
    }
   ],
   "source": [
    "c4 = [1, 2, 3, 4]\n",
    "c5 = [5, 6, 7, 8]\n",
    "\n",
    "# 더하기(+) : 리스트를 합치는 기능\n",
    "print(c4 + c5)\n",
    "\n",
    "# 곱하기(*) : 리스트 반복\n",
    "print(c4*2)\n",
    "\n",
    "# 리스트 길이(len)\n",
    "print(len(c4))"
   ]
  },
  {
   "cell_type": "markdown",
   "metadata": {},
   "source": [
    "#### 4) 수정 & 삭제"
   ]
  },
  {
   "cell_type": "code",
   "execution_count": 13,
   "metadata": {},
   "outputs": [
    {
     "name": "stdout",
     "output_type": "stream",
     "text": [
      "[1, 2, 4, 4]\n",
      "[1, 2]\n"
     ]
    }
   ],
   "source": [
    "# 수정\n",
    "c4[2] = 4\n",
    "print(c4)\n",
    "\n",
    "# 삭제1. del 사용\n",
    "del c4[2:4]\n",
    "print(c4)\n",
    "\n",
    "# 삭제2. remove\n",
    "# 삭제3. pop"
   ]
  },
  {
   "cell_type": "markdown",
   "metadata": {},
   "source": [
    "#### 5) 관련 함수\n",
    "\n",
    "- `append` : 리스트에 요소 추가\n",
    "- `sort` : 리스트 정렬\n",
    "- `reverse` : 리스트 뒤집기\n",
    "- `index` : 위치 반환\n",
    "- `insert` : 리스트에 요소 삽입\n",
    "- `remove` : 리스트에 요소 제거\n",
    "- `pop` : 리스트 요소 끄집어내기\n",
    "- `count` : 리스트에 포함된 요소 개수 세기\n",
    "- `extend` : 리스트 확장"
   ]
  },
  {
   "cell_type": "code",
   "execution_count": 14,
   "metadata": {},
   "outputs": [
    {
     "name": "stdout",
     "output_type": "stream",
     "text": [
      "append : [3, 1, 2, 5, 4, 2, 6]\n",
      "sort : [1, 2, 2, 3, 4, 5, 6]\n",
      "reverse : [6, 5, 4, 3, 2, 2, 1]\n",
      "index : 4\n",
      "insert : [6, 5, 4, 11, 3, 2, 2, 1]\n",
      "remove : [6, 5, 4, 3, 2, 2, 1]\n",
      "pop : 1\n",
      "pop : [6, 5, 4, 3, 2, 2]\n",
      "count : 2\n",
      "extend : [6, 5, 4, 3, 2, 2, 100, 101]\n"
     ]
    }
   ],
   "source": [
    "c6 = [3, 1, 2, 5, 4, 2]\n",
    "\n",
    "# append\n",
    "c6.append(6)\n",
    "print(\"append :\", c6)\n",
    "\n",
    "# sort\n",
    "c6.sort()\n",
    "print(\"sort :\", c6)\n",
    "\n",
    "# reverse\n",
    "c6.reverse()\n",
    "print(\"reverse :\", c6)\n",
    "\n",
    "# index(값이 없으면 에러)\n",
    "print(\"index :\", c6.index(2))\n",
    "\n",
    "# insert(a, b) : a번째 위치에 b값을 삽입\n",
    "c6.insert(3, 11)\n",
    "print(\"insert :\", c6)\n",
    "\n",
    "# remove\n",
    "c6.remove(11)\n",
    "print(\"remove :\", c6)\n",
    "\n",
    "# pop : 맨 마지막 요소를 돌려주고 그 요소는 삭제\n",
    "print(\"pop :\", c6.pop())\n",
    "print(\"pop :\", c6)\n",
    "\n",
    "# count\n",
    "print(\"count :\", c6.count(2))\n",
    "\n",
    "# extend : extend(x)에서 x는 리스트만 가능\n",
    "c6.extend([100, 101])\n",
    "print(\"extend :\", c6)"
   ]
  },
  {
   "cell_type": "markdown",
   "metadata": {},
   "source": [
    "#### 6) 문제\n",
    "\n",
    "A = [1, 2, 3, 4, 5] 리스트에서 슬라이싱 기법을 사용하여 리스트 [2, 3]을 만들어보자"
   ]
  },
  {
   "cell_type": "code",
   "execution_count": 15,
   "metadata": {},
   "outputs": [
    {
     "data": {
      "text/plain": [
       "[2, 3]"
      ]
     },
     "execution_count": 15,
     "metadata": {},
     "output_type": "execute_result"
    }
   ],
   "source": [
    "A = [1, 2, 3, 4, 5]\n",
    "A[1:3]"
   ]
  },
  {
   "cell_type": "markdown",
   "metadata": {},
   "source": [
    "---"
   ]
  },
  {
   "cell_type": "markdown",
   "metadata": {},
   "source": [
    "### 4. 튜플 (Tuple)\n",
    "\n",
    "- 리스트는 [ ]으로 둘러싸지만 튜플은 ( )으로 둘러싼다.\n",
    "- 리스트는 그 값의 생성, 삭제, 수정이 가능하지만 튜프른 그 값을 바꿀 수 없다."
   ]
  },
  {
   "cell_type": "markdown",
   "metadata": {},
   "source": [
    "#### 1) 사용법"
   ]
  },
  {
   "cell_type": "code",
   "execution_count": 16,
   "metadata": {},
   "outputs": [],
   "source": [
    "d1 = ()\n",
    "d2 = (1,) # 한개의 요소일때 반드시 콤마(,)를 붙여아함 \n",
    "d3 = (1, 2, 3)\n",
    "d4 = 1, 2, 3\n",
    "d5 = (\"a\", \"b\", (\"ab\", \"cd\"))"
   ]
  },
  {
   "cell_type": "markdown",
   "metadata": {},
   "source": [
    "#### 2) 인덱싱 & 슬라이싱"
   ]
  },
  {
   "cell_type": "code",
   "execution_count": 17,
   "metadata": {},
   "outputs": [
    {
     "name": "stdout",
     "output_type": "stream",
     "text": [
      "b\n",
      "('ab', 'cd')\n",
      "cd\n",
      "('a', 'b')\n"
     ]
    }
   ],
   "source": [
    "# 문자열과 동일한 방식으로 사용 가능\n",
    "\n",
    "# 인덱싱\n",
    "print(d5[1])\n",
    "print(d5[-1])\n",
    "print(d5[-1][1])\n",
    "\n",
    "# 슬라이싱\n",
    "print(d5[0:2])"
   ]
  },
  {
   "cell_type": "markdown",
   "metadata": {},
   "source": [
    "#### 3) 연산"
   ]
  },
  {
   "cell_type": "code",
   "execution_count": 18,
   "metadata": {},
   "outputs": [
    {
     "name": "stdout",
     "output_type": "stream",
     "text": [
      "(1, 2, 3, 'a', 'b', ('ab', 'cd'))\n",
      "(1, 2, 3, 1, 2, 3)\n",
      "3\n"
     ]
    }
   ],
   "source": [
    "# 더하기(+) : 튜플을 합치는 기능\n",
    "print(d3 + d5)\n",
    "\n",
    "# 곱하기(*) : 튜플 반복\n",
    "print(d3*2)\n",
    "\n",
    "# 리스트 길이(len)\n",
    "print(len(d3))"
   ]
  },
  {
   "cell_type": "markdown",
   "metadata": {},
   "source": [
    "#### 4) 문제 \n",
    "\n",
    "(1, 2, 3)이라는 튜플에 값 4를 추가하여 (1, 2, 3, 4)를 만들어 출력해보자."
   ]
  },
  {
   "cell_type": "code",
   "execution_count": 19,
   "metadata": {},
   "outputs": [
    {
     "data": {
      "text/plain": [
       "(1, 2, 3, 4)"
      ]
     },
     "execution_count": 19,
     "metadata": {},
     "output_type": "execute_result"
    }
   ],
   "source": [
    "d6 = (1, 2, 3)\n",
    "d6 + (4,)"
   ]
  },
  {
   "cell_type": "markdown",
   "metadata": {},
   "source": [
    "---"
   ]
  },
  {
   "cell_type": "markdown",
   "metadata": {},
   "source": [
    "### 5. 딕셔너리 (Dictionary)\n",
    "\n",
    "- Key와 Value를 한 쌍으로 갖는 자료형\n",
    "- 리스트나 튜플처럼 인덱스로 해당 요솟값을 구하지 않고 Key를 통해 Value를 얻는다."
   ]
  },
  {
   "cell_type": "markdown",
   "metadata": {},
   "source": [
    "#### 1) 사용법"
   ]
  },
  {
   "cell_type": "code",
   "execution_count": 20,
   "metadata": {},
   "outputs": [
    {
     "name": "stdout",
     "output_type": "stream",
     "text": [
      "{'name': 'JI', 'phone': '01012345678', 'birth': 920629}\n"
     ]
    }
   ],
   "source": [
    "# {key1 : value1, key2: value2, ...}\n",
    "e1 = {\"name\": \"JI\", \"phone\": \"01012345678\", \"birth\": 920629}\n",
    "print(e1)"
   ]
  },
  {
   "cell_type": "markdown",
   "metadata": {},
   "source": [
    "#### 2) 연산"
   ]
  },
  {
   "cell_type": "code",
   "execution_count": 21,
   "metadata": {},
   "outputs": [
    {
     "name": "stdout",
     "output_type": "stream",
     "text": [
      "{'name': 'JI', 'phone': '01012345678', 'birth': 920629, 'age': 29}\n",
      "{'name': 'JI', 'phone': '01012345678', 'birth': 920629}\n"
     ]
    }
   ],
   "source": [
    "# 추가\n",
    "e1[\"age\"] = 29\n",
    "print(e1)\n",
    "\n",
    "# 제거\n",
    "del e1[\"age\"]\n",
    "print(e1)"
   ]
  },
  {
   "cell_type": "markdown",
   "metadata": {},
   "source": [
    "#### 3) 접근\n",
    "\n",
    "- 리스트나 튜플은 인덱싱 or 슬라이싱을 통해 값을 얻을 수 있었지만, 딕셔너리는 오로지 key를 이용해야 한다.\n",
    "- Key는 고유한 값이므로 중복되는 Key값을 설정해 놓으면 하나를 제외한 나머지 것들이 모두 무시된다.\n",
    "- Key에 리스트는 쓸 수 없다"
   ]
  },
  {
   "cell_type": "code",
   "execution_count": 22,
   "metadata": {},
   "outputs": [
    {
     "name": "stdout",
     "output_type": "stream",
     "text": [
      "JI\n",
      "01012345678\n"
     ]
    }
   ],
   "source": [
    "# key접근\n",
    "print(e1[\"name\"])\n",
    "print(e1[\"phone\"])"
   ]
  },
  {
   "cell_type": "markdown",
   "metadata": {},
   "source": [
    "#### 4) 관련 함수\n",
    "\n",
    "- `keys` : key 리스트 만들기\n",
    "- `values` : value 리스트 만들기\n",
    "- `items` : key, value 쌍 얻기\n",
    "- `get` : key로 vaule 얻기\n",
    "- `in` : key가 딕셔너리 안에 있는지 조사하기\n",
    "- `clear` : key, value 쌍 모두 지우기"
   ]
  },
  {
   "cell_type": "code",
   "execution_count": 23,
   "metadata": {},
   "outputs": [
    {
     "name": "stdout",
     "output_type": "stream",
     "text": [
      "keys : dict_keys(['name', 'phone', 'birth'])\n",
      "values : dict_values(['JI', '01012345678', 920629])\n",
      "items : dict_items([('name', 'JI'), ('phone', '01012345678'), ('birth', 920629)])\n",
      "get : JI\n",
      "in : True\n",
      "clear : {}\n"
     ]
    }
   ],
   "source": [
    "# keys\n",
    "print(\"keys :\", e1.keys())\n",
    "\n",
    "# values\n",
    "print(\"values :\", e1.values())\n",
    "\n",
    "# items\n",
    "print(\"items :\", e1.items())\n",
    "\n",
    "# get\n",
    "print(\"get :\", e1.get(\"name\"))\n",
    "\n",
    "# in\n",
    "print(\"in :\", \"name\" in e1)\n",
    "\n",
    "# clear\n",
    "e1.clear()\n",
    "print(\"clear :\", e1)"
   ]
  },
  {
   "cell_type": "markdown",
   "metadata": {},
   "source": [
    "#### 5) 문제\n",
    "\n",
    "다음 표를 딕셔너리로 만드시오\n",
    "\n",
    "|항목|값|\n",
    "|--|--|\n",
    "|name|홍길동|\n",
    "|birth|1128|\n",
    "|age|30|"
   ]
  },
  {
   "cell_type": "code",
   "execution_count": 24,
   "metadata": {},
   "outputs": [
    {
     "data": {
      "text/plain": [
       "{'name': '홍길동', 'birth': 1128, 'age': 30}"
      ]
     },
     "execution_count": 24,
     "metadata": {},
     "output_type": "execute_result"
    }
   ],
   "source": [
    "e2 = {\"name\": \"홍길동\",\n",
    "      \"birth\": 1128,\n",
    "      \"age\": 30\n",
    "     }\n",
    "e2"
   ]
  },
  {
   "cell_type": "markdown",
   "metadata": {},
   "source": [
    "---"
   ]
  },
  {
   "cell_type": "markdown",
   "metadata": {},
   "source": [
    "### 6. 집합 (Set)\n",
    "\n",
    "- ver2.3부터 지원 시작\n",
    "- 집합에 관련된 것을 쉽게 처리하기 위해 만든 자료형이다.\n",
    "- 중복을 허용하지 않는다.\n",
    "- 순서가 없다. => 인덱싱으로 값을 얻을 수 없다."
   ]
  },
  {
   "cell_type": "markdown",
   "metadata": {},
   "source": [
    "#### 1) 사용법"
   ]
  },
  {
   "cell_type": "code",
   "execution_count": 25,
   "metadata": {},
   "outputs": [
    {
     "name": "stdout",
     "output_type": "stream",
     "text": [
      "{1, 2, 3}\n",
      "{'l', 'e', 'H', 'o'}\n"
     ]
    }
   ],
   "source": [
    "# set()\n",
    "f1 = set([1, 2, 3])\n",
    "f2 = set(\"Hello\")\n",
    "\n",
    "print(f1)\n",
    "print(f2)"
   ]
  },
  {
   "cell_type": "markdown",
   "metadata": {},
   "source": [
    "#### 2) 교집합 & 합집합 & 차집합"
   ]
  },
  {
   "cell_type": "code",
   "execution_count": 26,
   "metadata": {},
   "outputs": [
    {
     "name": "stdout",
     "output_type": "stream",
     "text": [
      "교집합1 : {4, 5, 6}\n",
      "교집합2 : {4, 5, 6}\n",
      "합집합1 : {1, 2, 3, 4, 5, 6, 7, 8, 9}\n",
      "합집합2 : {1, 2, 3, 4, 5, 6, 7, 8, 9}\n",
      "차집합1 : {1, 2, 3}\n",
      "차집합2 : {1, 2, 3}\n"
     ]
    }
   ],
   "source": [
    "f3 = set([1, 2, 3, 4, 5, 6])\n",
    "f4 = set([4, 5, 6, 7, 8, 9])\n",
    "\n",
    "# 교집합(&, intersection)\n",
    "print(\"교집합1 :\", f3&f4)\n",
    "print(\"교집합2 :\", f3.intersection(f4))\n",
    "\n",
    "# 합집합(|, union)\n",
    "print(\"합집합1 :\", f3|f4)\n",
    "print(\"합집합2 :\", f3.union(f4))\n",
    "\n",
    "# 차집합(-, difference)\n",
    "print(\"차집합1 :\", f3-f4)\n",
    "print(\"차집합2 :\", f3.difference(f4))"
   ]
  },
  {
   "cell_type": "markdown",
   "metadata": {},
   "source": [
    "#### 3) 관련 함수\n",
    "\n",
    "- `add` : 값 1개 추가하기\n",
    "- `update` : 값 여러 개 추가하기\n",
    "- `remove` : 특정 값 제거하기"
   ]
  },
  {
   "cell_type": "code",
   "execution_count": 27,
   "metadata": {},
   "outputs": [
    {
     "name": "stdout",
     "output_type": "stream",
     "text": [
      "add : {1, 2, 3, 4}\n",
      "update : {1, 2, 3, 4, 5, 6, 7}\n",
      "remove : {1, 2, 3, 4, 5, 6}\n"
     ]
    }
   ],
   "source": [
    "f5 = set([1, 2, 3])\n",
    "\n",
    "# add\n",
    "f5.add(4)\n",
    "print(\"add :\", f5)\n",
    "\n",
    "# update\n",
    "f5.update([5, 6, 7])\n",
    "print(\"update :\", f5)\n",
    "\n",
    "# remove\n",
    "f5.remove(7)\n",
    "print(\"remove :\", f5)"
   ]
  },
  {
   "cell_type": "markdown",
   "metadata": {},
   "source": [
    "---"
   ]
  },
  {
   "cell_type": "markdown",
   "metadata": {},
   "source": [
    "### 7. 불리안 (Boolean)\n",
    "\n",
    "- 참(True)과 거짓(False)을 나타내는 자료형\n",
    "- 조건문의 반환 값으로도 사용\n",
    "- 문자열, 리스트, 튜플, 딕셔너리 등의 값이 비어 있으면 (\"\", [ ], ( ), { }) False\n",
    "- 숫자가 0이면 False"
   ]
  },
  {
   "cell_type": "code",
   "execution_count": 28,
   "metadata": {},
   "outputs": [
    {
     "name": "stdout",
     "output_type": "stream",
     "text": [
      "True\n",
      "False\n",
      "True\n",
      "False\n",
      "True\n",
      "False\n"
     ]
    }
   ],
   "source": [
    "# bool()\n",
    "print(bool(1))\n",
    "print(bool(0))\n",
    "\n",
    "print(bool(\"python\"))\n",
    "print(bool(\"\"))\n",
    "\n",
    "print(bool([1, 2, 3]))\n",
    "print(bool([]))"
   ]
  }
 ],
 "metadata": {
  "kernelspec": {
   "display_name": "Python 3",
   "language": "python",
   "name": "python3"
  },
  "language_info": {
   "codemirror_mode": {
    "name": "ipython",
    "version": 3
   },
   "file_extension": ".py",
   "mimetype": "text/x-python",
   "name": "python",
   "nbconvert_exporter": "python",
   "pygments_lexer": "ipython3",
   "version": "3.7.6"
  }
 },
 "nbformat": 4,
 "nbformat_minor": 2
}
